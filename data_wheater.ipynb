{
 "cells": [
  {
   "cell_type": "code",
   "execution_count": 3,
   "metadata": {},
   "outputs": [
    {
     "name": "stderr",
     "output_type": "stream",
     "text": [
      "c:\\Users\\idani\\anaconda3\\lib\\site-packages\\pandas\\core\\arrays\\masked.py:60: UserWarning: Pandas requires version '1.3.6' or newer of 'bottleneck' (version '1.3.5' currently installed).\n",
      "  from pandas.core import (\n"
     ]
    }
   ],
   "source": [
    "# Import necessary library\n",
    "import requests  # For making API requests\n",
    "import json      # For parsing JSON data\n",
    "import pandas as pd  # For handling tabular data"
   ]
  },
  {
   "cell_type": "code",
   "execution_count": 4,
   "metadata": {},
   "outputs": [],
   "source": [
    "# API URL\n",
    "#url = \"https://api.sunrisesunset.io/json?lat=38.907192&lng=-77.036873&timezone=UTC&date=today\"\n",
    "url = \"http://www.7timer.info/bin/api.pl?lon=113.17&lat=23.09&product=astro&output=json\""
   ]
  },
  {
   "cell_type": "code",
   "execution_count": 5,
   "metadata": {},
   "outputs": [
    {
     "name": "stdout",
     "output_type": "stream",
     "text": [
      "Data fetched successfully.\n"
     ]
    }
   ],
   "source": [
    "# Fetch data from the API\n",
    "try:\n",
    "    response = requests.get(url)\n",
    "    if response.status_code == 200:\n",
    "        # Parse JSON data\n",
    "        data = response.json()\n",
    "        print(\"Data fetched successfully.\")\n",
    "    else:\n",
    "        print(f\"Error: {response.status_code}, {response.text}\")\n",
    "except requests.exceptions.RequestException as e:\n",
    "    print(f\"Request failed: {e}\")"
   ]
  },
  {
   "cell_type": "code",
   "execution_count": 6,
   "metadata": {},
   "outputs": [
    {
     "name": "stdout",
     "output_type": "stream",
     "text": [
      "{'product': 'astro', 'init': '2024111800', 'dataseries': [{'timepoint': 3, 'cloudcover': 1, 'seeing': 6, 'transparency': 3, 'lifted_index': 10, 'rh2m': 6, 'wind10m': {'direction': 'N', 'speed': 3}, 'temp2m': 24, 'prec_type': 'none'}, {'timepoint': 6, 'cloudcover': 1, 'seeing': 6, 'transparency': 3, 'lifted_index': 6, 'rh2m': 4, 'wind10m': {'direction': 'N', 'speed': 3}, 'temp2m': 27, 'prec_type': 'none'}, {'timepoint': 9, 'cloudcover': 1, 'seeing': 6, 'transparency': 3, 'lifted_index': 6, 'rh2m': 5, 'wind10m': {'direction': 'N', 'speed': 3}, 'temp2m': 26, 'prec_type': 'none'}, {'timepoint': 12, 'cloudcover': 1, 'seeing': 6, 'transparency': 3, 'lifted_index': 10, 'rh2m': 6, 'wind10m': {'direction': 'NE', 'speed': 3}, 'temp2m': 23, 'prec_type': 'none'}, {'timepoint': 15, 'cloudcover': 7, 'seeing': 6, 'transparency': 3, 'lifted_index': 10, 'rh2m': 7, 'wind10m': {'direction': 'N', 'speed': 3}, 'temp2m': 22, 'prec_type': 'none'}, {'timepoint': 18, 'cloudcover': 5, 'seeing': 6, 'transparency': 3, 'lifted_index': 15, 'rh2m': 8, 'wind10m': {'direction': 'N', 'speed': 3}, 'temp2m': 20, 'prec_type': 'none'}, {'timepoint': 21, 'cloudcover': 2, 'seeing': 7, 'transparency': 3, 'lifted_index': 15, 'rh2m': 8, 'wind10m': {'direction': 'N', 'speed': 3}, 'temp2m': 17, 'prec_type': 'none'}, {'timepoint': 24, 'cloudcover': 6, 'seeing': 7, 'transparency': 3, 'lifted_index': 15, 'rh2m': 8, 'wind10m': {'direction': 'N', 'speed': 3}, 'temp2m': 17, 'prec_type': 'none'}, {'timepoint': 27, 'cloudcover': 9, 'seeing': 7, 'transparency': 4, 'lifted_index': 15, 'rh2m': 10, 'wind10m': {'direction': 'N', 'speed': 3}, 'temp2m': 16, 'prec_type': 'rain'}, {'timepoint': 30, 'cloudcover': 9, 'seeing': 7, 'transparency': 4, 'lifted_index': 15, 'rh2m': 10, 'wind10m': {'direction': 'N', 'speed': 3}, 'temp2m': 16, 'prec_type': 'rain'}, {'timepoint': 33, 'cloudcover': 9, 'seeing': 7, 'transparency': 4, 'lifted_index': 15, 'rh2m': 10, 'wind10m': {'direction': 'N', 'speed': 3}, 'temp2m': 17, 'prec_type': 'rain'}, {'timepoint': 36, 'cloudcover': 9, 'seeing': 7, 'transparency': 5, 'lifted_index': 15, 'rh2m': 11, 'wind10m': {'direction': 'NE', 'speed': 3}, 'temp2m': 17, 'prec_type': 'rain'}, {'timepoint': 39, 'cloudcover': 9, 'seeing': 6, 'transparency': 5, 'lifted_index': 15, 'rh2m': 11, 'wind10m': {'direction': 'N', 'speed': 3}, 'temp2m': 16, 'prec_type': 'rain'}, {'timepoint': 42, 'cloudcover': 9, 'seeing': 6, 'transparency': 5, 'lifted_index': 15, 'rh2m': 11, 'wind10m': {'direction': 'N', 'speed': 3}, 'temp2m': 16, 'prec_type': 'rain'}, {'timepoint': 45, 'cloudcover': 9, 'seeing': 7, 'transparency': 5, 'lifted_index': 15, 'rh2m': 11, 'wind10m': {'direction': 'N', 'speed': 3}, 'temp2m': 16, 'prec_type': 'rain'}, {'timepoint': 48, 'cloudcover': 9, 'seeing': 7, 'transparency': 4, 'lifted_index': 15, 'rh2m': 11, 'wind10m': {'direction': 'N', 'speed': 3}, 'temp2m': 16, 'prec_type': 'rain'}, {'timepoint': 51, 'cloudcover': 9, 'seeing': 6, 'transparency': 4, 'lifted_index': 15, 'rh2m': 9, 'wind10m': {'direction': 'N', 'speed': 3}, 'temp2m': 17, 'prec_type': 'none'}, {'timepoint': 54, 'cloudcover': 9, 'seeing': 6, 'transparency': 3, 'lifted_index': 15, 'rh2m': 9, 'wind10m': {'direction': 'N', 'speed': 3}, 'temp2m': 16, 'prec_type': 'none'}, {'timepoint': 57, 'cloudcover': 9, 'seeing': 6, 'transparency': 3, 'lifted_index': 15, 'rh2m': 9, 'wind10m': {'direction': 'N', 'speed': 3}, 'temp2m': 16, 'prec_type': 'none'}, {'timepoint': 60, 'cloudcover': 9, 'seeing': 7, 'transparency': 3, 'lifted_index': 15, 'rh2m': 9, 'wind10m': {'direction': 'N', 'speed': 3}, 'temp2m': 16, 'prec_type': 'none'}, {'timepoint': 63, 'cloudcover': 9, 'seeing': 7, 'transparency': 3, 'lifted_index': 15, 'rh2m': 9, 'wind10m': {'direction': 'N', 'speed': 3}, 'temp2m': 15, 'prec_type': 'none'}, {'timepoint': 66, 'cloudcover': 9, 'seeing': 7, 'transparency': 3, 'lifted_index': 15, 'rh2m': 9, 'wind10m': {'direction': 'N', 'speed': 3}, 'temp2m': 15, 'prec_type': 'rain'}, {'timepoint': 69, 'cloudcover': 9, 'seeing': 7, 'transparency': 4, 'lifted_index': 15, 'rh2m': 10, 'wind10m': {'direction': 'N', 'speed': 3}, 'temp2m': 15, 'prec_type': 'rain'}, {'timepoint': 72, 'cloudcover': 9, 'seeing': 7, 'transparency': 4, 'lifted_index': 15, 'rh2m': 10, 'wind10m': {'direction': 'N', 'speed': 3}, 'temp2m': 14, 'prec_type': 'rain'}]}\n"
     ]
    }
   ],
   "source": [
    "print(data)"
   ]
  },
  {
   "cell_type": "code",
   "execution_count": null,
   "metadata": {},
   "outputs": [],
   "source": []
  }
 ],
 "metadata": {
  "kernelspec": {
   "display_name": "base",
   "language": "python",
   "name": "python3"
  },
  "language_info": {
   "codemirror_mode": {
    "name": "ipython",
    "version": 3
   },
   "file_extension": ".py",
   "mimetype": "text/x-python",
   "name": "python",
   "nbconvert_exporter": "python",
   "pygments_lexer": "ipython3",
   "version": "3.10.9"
  }
 },
 "nbformat": 4,
 "nbformat_minor": 2
}
